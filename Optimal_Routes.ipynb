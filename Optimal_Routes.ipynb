{
 "cells": [
  {
   "cell_type": "code",
   "execution_count": 2,
   "id": "9345439b-0ebc-4625-9929-6f1875ad930e",
   "metadata": {},
   "outputs": [
    {
     "name": "stdout",
     "output_type": "stream",
     "text": [
      "CSV file 'west_bengal.csv' created successfully.\n"
     ]
    }
   ],
   "source": [
    "import pandas as pd\n",
    "\n",
    "mine_names = [\n",
    "    \"Ningah Colliery\", \"Jhanjhara Project Colly\", \"MAOHUSUDANPUR\", \"PARASCOLE(EAST)\", \"PARASCOLE(WEST)\", \n",
    "    \"Jambad UG\", \"Khas Kajora\",\n",
    "    # ... (Include all mine names)\n",
    "]\n",
    "\n",
    "# Creating a DataFrame with mine names as both row and column indices and sample distances\n",
    "sample_distances = [\n",
    "    [0, 28.8, 157, 18, 16.2, 73.9, 17.3],\n",
    "    [104, 0, 15.3, 14.1, 14.1, 18.5, 18.3],\n",
    "    [157, 15.3, 0, 2.3, 2.7, 7.5, 4.1],\n",
    "    [18, 14.1, 2.3, 0, 0.1, 6.6, 5],\n",
    "    [16.2, 14.1, 2.7, 0.1, 0, 6.6, 5],\n",
    "    [73.9, 18.5, 7.5, 6.6, 6.6, 0, 119],\n",
    "    [17.3, 18.3, 4.1, 5, 5, 119, 0],\n",
    "    # ... (Add more rows if needed)\n",
    "]\n",
    "\n",
    "mine_distances = pd.DataFrame(sample_distances, index=mine_names, columns=mine_names)\n",
    "\n",
    "# Save the DataFrame to a CSV file\n",
    "mine_distances.to_csv('west_bengal.csv')\n",
    "\n",
    "print(\"CSV file 'west_bengal.csv' created successfully.\")\n"
   ]
  },
  {
   "cell_type": "code",
   "execution_count": 3,
   "id": "c54a9cc3-cd77-458d-98fd-5e00978ec05e",
   "metadata": {},
   "outputs": [
    {
     "name": "stdout",
     "output_type": "stream",
     "text": [
      "CSV file 'mine_distances_assam.csv' created successfully.\n"
     ]
    }
   ],
   "source": [
    "import pandas as pd\n",
    "\n",
    "mine_names_assam = [\n",
    "    \"Tipong\", \"Tirap\", \"Tikak\"\n",
    "]\n",
    "\n",
    "sample_distances_assam = [\n",
    "    [0, 0.45, 14.1],\n",
    "    [0.45, 0, 14],\n",
    "    [14.1, 14, 0]\n",
    "]\n",
    "\n",
    "mine_distances_assam = pd.DataFrame(sample_distances_assam, index=mine_names_assam, columns=mine_names_assam)\n",
    "\n",
    "mine_distances_assam.to_csv('mine_distances_assam.csv')\n",
    "\n",
    "print(\"CSV file 'mine_distances_assam.csv' created successfully.\")\n"
   ]
  },
  {
   "cell_type": "code",
   "execution_count": 4,
   "id": "c18d7630-62e2-40c0-80ad-d1892a6597a7",
   "metadata": {},
   "outputs": [
    {
     "name": "stdout",
     "output_type": "stream",
     "text": [
      "CSV file 'mine_distances_orissa.csv' created successfully.\n"
     ]
    }
   ],
   "source": [
    "import pandas as pd\n",
    "\n",
    "mine_names_orissa = [\n",
    "    \"TALCHER\", \"NANDIRA\", \"DEULBERA\", \"HANDIDHUA\", \"BHARATPUR\", \"CHHENDIPARA\"\n",
    "]\n",
    "\n",
    "sample_distances_orissa = [\n",
    "    [0, 12, 1.7, 2.5, 10.6, 50],\n",
    "    [12, 0, 11.1, 9.5, 5.6, 39.7],\n",
    "    [1.7, 11.1, 0, 2.3, 9.8, 49.2],\n",
    "    [2.5, 9.5, 2.3, 0, 8.1, 47.5],\n",
    "    [10.6, 5.6, 9.8, 8.1, 0, 39.8],\n",
    "    [50, 39.7, 49.2, 47.5, 39.8, 0]\n",
    "]\n",
    "\n",
    "mine_distances_orissa = pd.DataFrame(sample_distances_orissa, index=mine_names_orissa, columns=mine_names_orissa)\n",
    "\n",
    "mine_distances_orissa.to_csv('mine_distances_orissa.csv')\n",
    "\n",
    "print(\"CSV file 'mine_distances_orissa.csv' created successfully.\")\n"
   ]
  },
  {
   "cell_type": "code",
   "execution_count": 5,
   "id": "1f024f0e-b0c8-4c92-9a46-56e13906e597",
   "metadata": {},
   "outputs": [
    {
     "name": "stdout",
     "output_type": "stream",
     "text": [
      "CSV file 'mine_distances_cg.csv' created successfully.\n"
     ]
    }
   ],
   "source": [
    "import pandas as pd\n",
    "\n",
    "mine_names_cg = [\n",
    "    \"CHURCHA RO\", \"KATKONA 1&2\", \"BARTUNGA HILL\", \"KURASIA\"\n",
    "]\n",
    "\n",
    "sample_distances_cg = [\n",
    "    [0, 23.2, 42.1, 38.4],\n",
    "    [23.2, 0, 56.8, 51.8],\n",
    "    [42.1, 56.8, 0, 3.3],\n",
    "    [38.4, 51.8, 3.3, 0]\n",
    "]\n",
    "\n",
    "mine_distances_cg = pd.DataFrame(sample_distances_cg, index=mine_names_cg, columns=mine_names_cg)\n",
    "\n",
    "mine_distances_cg.to_csv('mine_distances_cg.csv')\n",
    "\n",
    "print(\"CSV file 'mine_distances_cg.csv' created successfully.\")\n"
   ]
  },
  {
   "cell_type": "code",
   "execution_count": 6,
   "id": "be32dc83-d230-484d-8e43-d922f707c9c8",
   "metadata": {},
   "outputs": [
    {
     "name": "stdout",
     "output_type": "stream",
     "text": [
      "CSV file 'mine_distances_mp.csv' created successfully.\n"
     ]
    }
   ],
   "source": [
    "import pandas as pd\n",
    "\n",
    "mine_names_mp = [\n",
    "    \"AMELIA NORTH MINE\", \"JHINGURDA\", \"JAYANT\", \"AMLOHRI\", \"NIGAHI\"\n",
    "]\n",
    "\n",
    "sample_distances_mp = [\n",
    "    [0, 43.9, 44.5, 33.5, 36.6],\n",
    "    [43.9, 0, 14.7, 24.7, 23.8],\n",
    "    [44.5, 14.7, 0, 63.4, 9.1],\n",
    "    [33.5, 24.7, 63.4, 0, 4.7],\n",
    "    [36.6, 23.8, 9.1, 4.7, 0]\n",
    "]\n",
    "\n",
    "mine_distances_mp = pd.DataFrame(sample_distances_mp, index=mine_names_mp, columns=mine_names_mp)\n",
    "\n",
    "mine_distances_mp.to_csv('mine_distances_mp.csv')\n",
    "\n",
    "print(\"CSV file 'mine_distances_mp.csv' created successfully.\")\n"
   ]
  },
  {
   "cell_type": "code",
   "execution_count": 7,
   "id": "f33f055f-ab98-4441-bc93-16112d6cea85",
   "metadata": {},
   "outputs": [
    {
     "name": "stdout",
     "output_type": "stream",
     "text": [
      "CSV file 'mine_distances_mh.csv' created successfully.\n"
     ]
    }
   ],
   "source": [
    "import pandas as pd\n",
    "\n",
    "mine_names_mh = [\n",
    "    \"NANDGAON INCL\", \"MAHAKALI\", \"D. RAYATWARI\", \"MANNA INCLINE\", \"HLC NO\", \"DURGAPUR\", \"PADMAPUR DEEP\"\n",
    "]\n",
    "\n",
    "sample_distances_mh = [\n",
    "    [0, 174, 8.1, 1.9, 699, 14.6, 18.9],\n",
    "    [174, 0, 168, 173, 576, 521, 177],\n",
    "    [801, 168, 0, 9.6, 693, 7.3, 11.7],\n",
    "    [1.9, 173, 9.6, 0, 4.8, 13.2, 18.3],\n",
    "    [699, 576, 693, 4.8, 0, 12.8, 17.1],\n",
    "    [14.6, 521, 7.3, 13.2, 12.8, 0, 9.8],\n",
    "    [18.9, 177, 11.7, 18.3, 17.1, 9.8, 0]\n",
    "]\n",
    "\n",
    "mine_distances_mh = pd.DataFrame(sample_distances_mh, index=mine_names_mh, columns=mine_names_mh)\n",
    "\n",
    "mine_distances_mh.to_csv('mine_distances_mh.csv')\n",
    "\n",
    "print(\"CSV file 'mine_distances_mh.csv' created successfully.\")\n"
   ]
  },
  {
   "cell_type": "code",
   "execution_count": 8,
   "id": "5e966065-dc43-4b99-b377-26f36da2bf68",
   "metadata": {},
   "outputs": [
    {
     "name": "stdout",
     "output_type": "stream",
     "text": [
      "CSV file 'mine_distances_up.csv' created successfully.\n"
     ]
    }
   ],
   "source": [
    "import pandas as pd\n",
    "\n",
    "mine_names_up = [\"DUDHICHUA\", \"BINA\", \"KAKARI\", \"KHADIA\", \"KRISHNASHILA\"]\n",
    "\n",
    "sample_distances_up = [\n",
    "    [0, 106, 219, 114, 106],\n",
    "    [106, 0, 314, 8.6, 1.6],\n",
    "    [219, 314, 0, 452, 444],\n",
    "    [114, 8.6, 452, 0, 9.2],\n",
    "    [106, 1.6, 444, 9.2, 0]\n",
    "]\n",
    "\n",
    "mine_distances_up = pd.DataFrame(sample_distances_up, index=mine_names_up, columns=mine_names_up)\n",
    "\n",
    "mine_distances_up.to_csv('mine_distances_up.csv')\n",
    "\n",
    "print(\"CSV file 'mine_distances_up.csv' created successfully.\")\n"
   ]
  },
  {
   "cell_type": "code",
   "execution_count": 9,
   "id": "726a7f9c-f7ab-41fb-8ba3-a14f1018fe78",
   "metadata": {},
   "outputs": [
    {
     "name": "stdout",
     "output_type": "stream",
     "text": [
      "CSV file 'mine_distances_jharkhand.csv' created successfully.\n"
     ]
    }
   ],
   "source": [
    "import pandas as pd\n",
    "\n",
    "mine_names_jharkhand = [\n",
    "    \"RAJMAHAL\", \"HURRA 'C'\", \"CHITRA EAST\", \"Tasra (CAPTIVE)\", \"Jitpur (CAPTIVE)\", \"Chasnala (CAPTIVE)\", \"BADJNA\"\n",
    "]\n",
    "\n",
    "sample_distances_jharkhand = [\n",
    "    [0, 71.8, 196, 287, 282, 289, 261],\n",
    "    [71.8, 0, 134, 223, 218, 225, 200],\n",
    "    [196, 134, 0, 88.2, 82.8, 90.4, 65],\n",
    "    [287, 223, 88.2, 0, 14.9, 3.4, 45.1],\n",
    "    [282, 218, 82.8, 14.9, 0, 11.9, 40.4],\n",
    "    [289, 225, 9.4, 3.4, 11.9, 0, 47.2],\n",
    "    [261, 200, 65, 45.1, 40.4, 47.2, 0]\n",
    "]\n",
    "\n",
    "mine_distances_jharkhand = pd.DataFrame(sample_distances_jharkhand, index=mine_names_jharkhand, columns=mine_names_jharkhand)\n",
    "\n",
    "mine_distances_jharkhand.to_csv('mine_distances_jharkhand.csv')\n",
    "\n",
    "print(\"CSV file 'mine_distances_jharkhand.csv' created successfully.\")\n"
   ]
  },
  {
   "cell_type": "code",
   "execution_count": 10,
   "id": "a35a7f04-c026-4ea7-af18-60d268822101",
   "metadata": {},
   "outputs": [
    {
     "name": "stdout",
     "output_type": "stream",
     "text": [
      "=== Coal Transportation Optimization Platform ===\n"
     ]
    },
    {
     "name": "stdin",
     "output_type": "stream",
     "text": [
      "Enter the state name:  mp\n",
      "Enter coal stock for AMELIA NORTH MINE:  2500\n",
      "Enter coal stock for JHINGURDA:  2311\n",
      "Enter coal stock for JAYANT:  3211\n",
      "Enter coal stock for AMLOHRI:  2344\n",
      "Enter coal stock for NIGAHI:  56\n",
      "Enter starting siding:  NIGAHI\n",
      "Enter ending siding:  AMELIA NORTH MINE\n"
     ]
    },
    {
     "name": "stdout",
     "output_type": "stream",
     "text": [
      "Optimal Route: ['NIGAHI', 'AMELIA NORTH MINE']\n"
     ]
    },
    {
     "data": {
      "image/png": "[encoded data removed]",
      "text/plain": [
       "<Figure size 640x480 with 1 Axes>"
      ]
     },
     "metadata": {},
     "output_type": "display_data"
    }
   ],
   "source": [
    "import pandas as pd\n",
    "import networkx as nx\n",
    "import matplotlib.pyplot as plt\n",
    "\n",
    "def create_coal_transportation_graph(state):\n",
    "    # Load distance matrix from CSV file\n",
    "    csv_file = f'{state.lower().replace(\" \", \"_\")}.csv'\n",
    "    mine_distances = pd.read_csv(csv_file, index_col=0)\n",
    "\n",
    "    # Initialize an empty graph\n",
    "    G = nx.Graph()\n",
    "\n",
    "    num_sidings = len(mine_distances)\n",
    "\n",
    "    # Add sidings as vertices with their stocks\n",
    "    for siding_name in mine_distances.index:\n",
    "        coal_stock = int(input(f\"Enter coal stock for {siding_name}: \"))\n",
    "        G.add_node(siding_name, coal_stock=coal_stock)\n",
    "\n",
    "    # Add edges with weights (distances)\n",
    "    for siding1 in G.nodes:\n",
    "        for siding2 in G.nodes:\n",
    "            if siding1 != siding2:\n",
    "                weight = mine_distances.loc[siding1, siding2]\n",
    "                G.add_edge(siding1, siding2, weight=weight)\n",
    "\n",
    "    return G\n",
    "\n",
    "def find_optimal_route(graph, start_siding, end_siding):\n",
    "    try:\n",
    "        optimal_route = nx.shortest_path(graph, source=start_siding, target=end_siding, weight='weight')\n",
    "        return optimal_route\n",
    "    except nx.NetworkXNoPath:\n",
    "        return None\n",
    "\n",
    "def visualize_graph(graph, optimal_route):\n",
    "    pos = nx.spring_layout(graph)  # You can use different layout algorithms\n",
    "\n",
    "    # Draw the graph\n",
    "    nx.draw(graph, pos, with_labels=True, font_weight='bold', node_size=700, node_color='skyblue')\n",
    "\n",
    "    # Highlight the optimal route\n",
    "    if optimal_route:\n",
    "        edges = [(optimal_route[i], optimal_route[i + 1]) for i in range(len(optimal_route) - 1)]\n",
    "        nx.draw_networkx_edges(graph, pos, edgelist=edges, edge_color='r', width=2)\n",
    "\n",
    "    plt.show()\n",
    "\n",
    "def main():\n",
    "    print(\"=== Coal Transportation Optimization Platform ===\")\n",
    "    \n",
    "    # Get the state name\n",
    "    state = input(\"Enter the state name: \")\n",
    "\n",
    "    # Create the transportation graph\n",
    "    transportation_graph = create_coal_transportation_graph(state)\n",
    "    \n",
    "    # Get starting and ending sidings\n",
    "    start_siding = input(\"Enter starting siding: \")\n",
    "    end_siding = input(\"Enter ending siding: \")\n",
    "    \n",
    "    # Find the optimal route\n",
    "    optimal_route = find_optimal_route(transportation_graph, start_siding, end_siding)\n",
    "    \n",
    "    if optimal_route:\n",
    "        print(f\"Optimal Route: {optimal_route}\")\n",
    "        visualize_graph(transportation_graph, optimal_route)\n",
    "    else:\n",
    "        print(\"No valid route found.\")\n",
    "\n",
    "if __name__ == \"__main__\":\n",
    "    main()\n"
   ]
  },
  {
   "cell_type": "code",
   "execution_count": null,
   "id": "02692d4b-ed00-4338-93c9-3c161afedd03",
   "metadata": {},
   "outputs": [],
   "source": []
  }
 ],
 "metadata": {
  "kernelspec": {
   "display_name": "Python 3 (ipykernel)",
   "language": "python",
   "name": "python3"
  },
  "language_info": {
   "codemirror_mode": {
    "name": "ipython",
    "version": 3
   },
   "file_extension": ".py",
   "mimetype": "text/x-python",
   "name": "python",
   "nbconvert_exporter": "python",
   "pygments_lexer": "ipython3",
   "version": "3.12.0"
  }
 },
 "nbformat": 4,
 "nbformat_minor": 5
}
